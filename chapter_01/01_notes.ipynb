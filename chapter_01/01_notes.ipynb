{
 "cells": [
  {
   "cell_type": "markdown",
   "id": "57dd2bce",
   "metadata": {},
   "source": [
    "# Types of Machine Learning "
   ]
  },
  {
   "cell_type": "markdown",
   "id": "6db0d0b5",
   "metadata": {},
   "source": [
    "* ### Whether or not they are trained with human supervision\n",
    " 1. *Supervised*\n",
    " 2. *Unsupervised*\n",
    " 3. *Semisupervised*\n",
    " 4. *Reinforcement Learning*\n",
    "* ### Whether or not they can learn incrementally on the fly\n",
    " 1. *online*\n",
    " 2. *batch*\n",
    "* ### Whether they work by simply comparing new data points to known data points, or instead by detecting patterns in the training data and building a predictive model \n",
    " 1. *instance-based* \n",
    " 2. *model-based*\n"
   ]
  },
  {
   "cell_type": "markdown",
   "id": "9611f265",
   "metadata": {},
   "source": [
    "### *1. Supervised algorithms*\n",
    "- k-Nearest Neighbors\n",
    "- Linear Regression\n",
    "- Logistic Regression\n",
    "- Support Vector Machines(SVMs)\n",
    "- Decision Trees and Random Forests\n",
    "- Neural Networks"
   ]
  },
  {
   "cell_type": "markdown",
   "id": "3609f02e",
   "metadata": {},
   "source": [
    "### *2. Unsupervised algorithms*\n",
    "* Clustering\n",
    "  1. *K-Means* \n",
    "  2. *DBSCAN*\n",
    "  3. *Hierarchical Cluster Analysis (HCA)*\n",
    "* Anomaly Detection and novelty detection\n",
    "  1. *One-class SVM*\n",
    "  2. *Isolation Forest*\n",
    "* Visualization and dimensionalty reduction\n",
    "  1. *Princical Component Analysis (PCA)*\n",
    "  2. *Kernel PCA*\n",
    "  3. *LOcally Linear Embedding*\n",
    "  4. *t-Distributed Stochastic Neighbor Embedding(t-SNE)*\n",
    "* Association rule learning\n",
    "  1. *Apriori*\n",
    "  2. *Eclat*\n"
   ]
  },
  {
   "cell_type": "code",
   "execution_count": null,
   "id": "4f626cb3",
   "metadata": {},
   "outputs": [],
   "source": []
  }
 ],
 "metadata": {
  "kernelspec": {
   "display_name": "Python 3 (ipykernel)",
   "language": "python",
   "name": "python3"
  },
  "language_info": {
   "codemirror_mode": {
    "name": "ipython",
    "version": 3
   },
   "file_extension": ".py",
   "mimetype": "text/x-python",
   "name": "python",
   "nbconvert_exporter": "python",
   "pygments_lexer": "ipython3",
   "version": "3.8.10"
  }
 },
 "nbformat": 4,
 "nbformat_minor": 5
}
